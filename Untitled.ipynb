{
 "cells": [
  {
   "cell_type": "code",
   "execution_count": null,
   "id": "1d678805-3d07-414e-9fe6-987cd6ff6ff3",
   "metadata": {},
   "outputs": [],
   "source": []
  }
 ],
 "metadata": {
  "kernelspec": {
   "display_name": "",
   "name": ""
  },
  "language_info": {
   "name": ""
  }
 },
 "nbformat": 4,
 "nbformat_minor": 5
}
